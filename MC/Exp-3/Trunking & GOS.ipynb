{
 "cells": [
  {
   "metadata": {
    "ExecuteTime": {
     "end_time": "2024-08-15T11:42:47.581414Z",
     "start_time": "2024-08-15T11:42:47.573600Z"
    }
   },
   "cell_type": "code",
   "outputs": [],
   "execution_count": 3,
   "source": [
    "# Given Data\n",
    "city_area = 1300                 # Square Miles\n",
    "cell_radius = 4                  # Miles\n",
    "total_spectrum = 40 * 1e6        # 40 Mhz in Hz\n",
    "channel_bandwidth = 60 * 1e3     # 60 Khz in Hz\n",
    "GOS = 0.02                       # (Grade of Service - 2%)\n",
    "offered_traffic_per_user = 0.03  # Erlang per user"
   ],
   "id": "b30df02b77a5cfef"
  },
  {
   "metadata": {
    "ExecuteTime": {
     "end_time": "2024-08-15T11:43:42.513793Z",
     "start_time": "2024-08-15T11:43:42.508107Z"
    }
   },
   "cell_type": "code",
   "outputs": [],
   "execution_count": 4,
   "source": [
    "# (a) Number of cells in the service area\n",
    "cell_area = (3 * (3 ** 0.5) / 2) * cell_radius ** 2\n",
    "number_of_cells = city_area / cell_area"
   ],
   "id": "bbfb8afdf0961fb"
  },
  {
   "metadata": {
    "ExecuteTime": {
     "end_time": "2024-08-15T11:44:29.102581Z",
     "start_time": "2024-08-15T11:44:29.099229Z"
    }
   },
   "cell_type": "code",
   "outputs": [],
   "execution_count": 5,
   "source": [
    "# (b) Number of channels per cell\n",
    "number_of_channels = total_spectrum / channel_bandwidth\n",
    "channels_per_cell = number_of_channels / 7"
   ],
   "id": "a5e25ad7132d260c"
  },
  {
   "metadata": {
    "ExecuteTime": {
     "end_time": "2024-08-15T11:44:56.511578Z",
     "start_time": "2024-08-15T11:44:56.509317Z"
    }
   },
   "cell_type": "code",
   "outputs": [],
   "execution_count": 6,
   "source": [
    "# (c) Traffic Intensity of each cell\n",
    "traffic_intensity_per_cell = channels_per_cell * GOS "
   ],
   "id": "63dd5fcd26ac0716"
  },
  {
   "metadata": {
    "ExecuteTime": {
     "end_time": "2024-08-15T11:45:16.505714Z",
     "start_time": "2024-08-15T11:45:16.503439Z"
    }
   },
   "cell_type": "code",
   "outputs": [],
   "execution_count": 7,
   "source": [
    "# (d) Maximum carried traffic\n",
    "maximum_carried_traffic = traffic_intensity_per_cell * channels_per_cell"
   ],
   "id": "5500135617ee7728"
  },
  {
   "metadata": {
    "ExecuteTime": {
     "end_time": "2024-08-15T12:24:38.524599Z",
     "start_time": "2024-08-15T12:24:38.518013Z"
    }
   },
   "cell_type": "code",
   "outputs": [],
   "execution_count": 18,
   "source": [
    "# (e) Total number of users that can be served for 2% GOS\n",
    "total_users = maximum_carried_traffic / offered_traffic_per_user"
   ],
   "id": "8ecae92a3dbc96e9"
  },
  {
   "metadata": {
    "ExecuteTime": {
     "end_time": "2024-08-15T12:24:51.444990Z",
     "start_time": "2024-08-15T12:24:51.442402Z"
    }
   },
   "cell_type": "code",
   "outputs": [],
   "execution_count": 19,
   "source": [
    "# (f) Number of mobiles per unique channel\n",
    "mobiles_per_unique_channel = total_users / number_of_channels"
   ],
   "id": "d1211edd74d6d4c9"
  },
  {
   "metadata": {
    "ExecuteTime": {
     "end_time": "2024-08-15T12:25:21.931012Z",
     "start_time": "2024-08-15T12:25:21.923297Z"
    }
   },
   "cell_type": "code",
   "outputs": [],
   "execution_count": 20,
   "source": [
    "# (g) Theoretical maximum number of users that could be served at one time by the system\n",
    "theoretical_max_users = channels_per_cell * 7"
   ],
   "id": "652d8925e94195ea"
  },
  {
   "metadata": {
    "ExecuteTime": {
     "end_time": "2024-08-15T12:25:22.065040Z",
     "start_time": "2024-08-15T12:25:22.061623Z"
    }
   },
   "cell_type": "code",
   "outputs": [
    {
     "name": "stdout",
     "output_type": "stream",
     "text": [
      "Number of cells in the service area:  31.27\n",
      "Number of channels per cell:  95.24\n",
      "Traffic intensity per cell:  1.90 Erlangs\n",
      "Maximum carried traffic:  181.41 Erlangs\n",
      "Total number of users that can be served for 2% GOS:  6046.86\n",
      "Number of mobiles per unique channel:  9.07\n",
      "Theoretical maximum number of users that could be served at one time by the system:  666.67\n"
     ]
    }
   ],
   "execution_count": 21,
   "source": [
    "#Output Results\n",
    "\n",
    "print(f\"Number of cells in the service area: {number_of_cells: .2f}\")\n",
    "print(f\"Number of channels per cell: {channels_per_cell: .2f}\")\n",
    "print(f\"Traffic intensity per cell: {traffic_intensity_per_cell: .2f} Erlang\")\n",
    "print(f\"Maximum carried traffic: {maximum_carried_traffic: .2f} Erlang\")\n",
    "print(f\"Total number of users that can be served for 2% GOS: {total_users: .2f}\")\n",
    "print(f\"Number of mobiles per unique channel: {mobiles_per_unique_channel: .2f}\")\n",
    "print(f\"Theoretical maximum number of users that could be served at one time by the system: {theoretical_max_users: .2f}\")"
   ],
   "id": "4714d9a5ba64d5be"
  }
 ],
 "metadata": {
  "kernelspec": {
   "display_name": "Python 3 (ipykernel)",
   "language": "python",
   "name": "python3"
  },
  "language_info": {
   "codemirror_mode": {
    "name": "ipython",
    "version": 3
   },
   "file_extension": ".py",
   "mimetype": "text/x-python",
   "name": "python",
   "nbconvert_exporter": "python",
   "pygments_lexer": "ipython3",
   "version": "3.12.4"
  }
 },
 "nbformat": 4,
 "nbformat_minor": 5
}
